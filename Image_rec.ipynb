{
 "cells": [
  {
   "cell_type": "code",
   "execution_count": 126,
   "metadata": {},
   "outputs": [],
   "source": [
    "from mnist_loader import load_data_wrapper\n",
    "import numpy as np\n",
    "import random\n",
    "import matplotlib.pyplot as plt"
   ]
  },
  {
   "cell_type": "code",
   "execution_count": 127,
   "metadata": {},
   "outputs": [],
   "source": [
    "training_data, validation_data, test_data = load_data_wrapper()"
   ]
  },
  {
   "cell_type": "code",
   "execution_count": 128,
   "metadata": {},
   "outputs": [],
   "source": [
    "def plot_images(images):\n",
    "    \"Plot a list of MINST images.\"\n",
    "    fig, axes = plt.subplots(nrows=1, ncols=len(images))\n",
    "    for j, ax in enumerate(axes):\n",
    "        ax.matshow(images[j][0].reshape(28,28), cmap = plt.cm.binary)\n",
    "        ax.set_xticks([])\n",
    "        ax.set_yticks([])\n",
    "    plt.show()"
   ]
  },
  {
   "cell_type": "code",
   "execution_count": 129,
   "metadata": {},
   "outputs": [],
   "source": [
    "def predict(images, W1, W2, B1, B2):\n",
    "    predictions = []\n",
    "    for im in images:\n",
    "        a = f(im[0], W1, W2, B1, B2)\n",
    "        predictions.append(np.argmax(a))\n",
    "    return predictions"
   ]
  },
  {
   "cell_type": "code",
   "execution_count": null,
   "metadata": {},
   "outputs": [],
   "source": [
    "# Implement σ(x)"
   ]
  },
  {
   "cell_type": "code",
   "execution_count": 130,
   "metadata": {},
   "outputs": [],
   "source": [
    "def sigmoid(x):\n",
    "    \"\"\"The sigmoid function.\"\"\"\n",
    "    return 1/(1+np.exp(-x))"
   ]
  },
  {
   "cell_type": "code",
   "execution_count": null,
   "metadata": {},
   "outputs": [],
   "source": [
    "# Implement the derivative of σ. Hint: σ'(χ) =σ(χ)(1-σ(χ)))"
   ]
  },
  {
   "cell_type": "code",
   "execution_count": 131,
   "metadata": {},
   "outputs": [],
   "source": [
    "def sigmoid_prime(x):\n",
    "    \"\"\"Derivative of the sigmoid function.\"\"\"\n",
    "    return sigmoid(x)*(1-sigmoid(x))"
   ]
  },
  {
   "cell_type": "code",
   "execution_count": null,
   "metadata": {},
   "outputs": [],
   "source": [
    "# Implement the score function\n",
    "#### ATTENTION! Don't forget to load the previous notebook! Carrying the functions is vital!"
   ]
  },
  {
   "cell_type": "code",
   "execution_count": 132,
   "metadata": {},
   "outputs": [],
   "source": [
    "def f(x, W1,W2,B1,B2):\n",
    "    \"\"\"Return the output of the network if 'x' is input image and \n",
    "    W1,W2,B1,B2 are the learnable weights.\"\"\"\n",
    "    Z1 = np.dot(W1,x)+B1\n",
    "    A1 = sigmoid(Z1)\n",
    "    Z2 = np.dot(W2, A1) + B2\n",
    "    A2 = sigmoid(Z2)\n",
    "    return A2"
   ]
  },
  {
   "cell_type": "code",
   "execution_count": null,
   "metadata": {},
   "outputs": [],
   "source": [
    "# Implement vectorize_mini_batch"
   ]
  },
  {
   "cell_type": "code",
   "execution_count": 133,
   "metadata": {},
   "outputs": [],
   "source": [
    "def vectorize_mini_batch(mini_batch):\n",
    "    \"\"\"Given a minibatch of (image,label) tuple of a certain size\n",
    "    return the tuple X,Y where x contains all of the images and Y contains\n",
    "    all of the labels stacked horizontally\"\"\"\n",
    "    mini_batch_x = []\n",
    "    mini_batch_y = []\n",
    "    for k in range(0, len(mini_batch)):\n",
    "        mini_batch_x.append(mini_batch[k][0])\n",
    "        mini_batch_y.append(mini_batch[k][1])\n",
    "        \n",
    "    X = np.hstack(mini_batch_x)\n",
    "    Y = np.hstack(mini_batch_y)\n",
    "    return X, Y"
   ]
  },
  {
   "cell_type": "code",
   "execution_count": null,
   "metadata": {},
   "outputs": [],
   "source": [
    "# Implement gradient descent"
   ]
  },
  {
   "cell_type": "code",
   "execution_count": 134,
   "metadata": {},
   "outputs": [],
   "source": [
    "def SGD(training_data, epochs, mini_batch_size, eta, test_data):\n",
    "    \"\"\"Gradient descent.\n",
    "    Epochs: The number of times the entire training_data is examined.\n",
    "    mini_batch_size: the number of images used to approximate the gradient each step of gradient descent.\n",
    "    eta: the learning rate or the step size.\n",
    "    test_data: check accuracy of the model against the test_data every epoch\n",
    "    \"\"\"\n",
    "    n = len(training_data)\n",
    "    n_test = len(test_data)\n",
    "    \n",
    "    W1 = np.random.randn(30,784)\n",
    "    W2 = np.random.randn(10,30)\n",
    "    B1 = np.random.randn(30,1)\n",
    "    B2 = np.random.randn(10,1)\n",
    "    \n",
    "    for j in range(epochs):\n",
    "        random.shuffle(training_data)\n",
    "        for k in range(0, n, mini_batch_size):\n",
    "            \n",
    "            mini_batch = training_data[k: k+mini_batch_size]\n",
    "            \n",
    "            \n",
    "            X, Y = vectorize_mini_batch(mini_batch)\n",
    "            \n",
    "            \n",
    "            # feed forward\n",
    "            Z1 = np.dot(W1,X)+B1\n",
    "            A1 = sigmoid(Z1)\n",
    "            Z2 = np.dot(W2,A1)+B2\n",
    "            A2 = sigmoid(Z2)\n",
    "            \n",
    "            # backpropagate\n",
    "            dZ2 = 1/mini_batch_size*(A2-Y)*sigmoid_prime(Z2)\n",
    "            \n",
    "            dW2 = np.dot(dZ2, A1.T)\n",
    "            \n",
    "            dB2 = 1/mini_batch_size*np.sum(dZ2, axis = 1, keepdims = True)\n",
    "            \n",
    "            dZ1 = 1/mini_batch_size*np.dot(W2.T, dZ2)*sigmoid_prime(Z1)\n",
    "             \n",
    "            dW1 = np.dot(dZ1, X.T)\n",
    "            \n",
    "            dB1 = 1/mini_batch_size*np.sum(dZ1, axis = 1, keepdims = True)\n",
    "            \n",
    "            # update parameters\n",
    "            \n",
    "            W2 = W2 - eta*dW2\n",
    "            W1 = W1 - eta*dW1\n",
    "            B2 = B2 - eta*dB2\n",
    "            B1 = B1 - eta*dB1\n",
    "            \n",
    "            \n",
    "        # after every epoch, check the accuracy of the model    \n",
    "        test_results = [(np.argmax(f(x, W1, W2, B1, B2)), y) for (x, y) in test_data]\n",
    "        num_correct = sum(int(x == y) for (x, y) in test_results)\n",
    "        print(\"Epoch {} : {} / {}\".format(j, num_correct, n_test));\n",
    "        \n",
    "    return W1, B1, W2, B2"
   ]
  },
  {
   "cell_type": "code",
   "execution_count": 135,
   "metadata": {},
   "outputs": [
    {
     "name": "stdout",
     "output_type": "stream",
     "text": [
      "Epoch 0 : 7504 / 10000\n",
      "Epoch 1 : 7841 / 10000\n",
      "Epoch 2 : 8842 / 10000\n",
      "Epoch 3 : 8951 / 10000\n",
      "Epoch 4 : 9018 / 10000\n",
      "Epoch 5 : 9077 / 10000\n",
      "Epoch 6 : 9079 / 10000\n",
      "Epoch 7 : 9198 / 10000\n",
      "Epoch 8 : 9176 / 10000\n",
      "Epoch 9 : 9202 / 10000\n",
      "Epoch 10 : 9240 / 10000\n",
      "Epoch 11 : 9247 / 10000\n",
      "Epoch 12 : 9254 / 10000\n",
      "Epoch 13 : 9258 / 10000\n",
      "Epoch 14 : 9285 / 10000\n",
      "Epoch 15 : 9286 / 10000\n",
      "Epoch 16 : 9313 / 10000\n",
      "Epoch 17 : 9308 / 10000\n",
      "Epoch 18 : 9304 / 10000\n",
      "Epoch 19 : 9309 / 10000\n",
      "Epoch 20 : 9331 / 10000\n",
      "Epoch 21 : 9318 / 10000\n",
      "Epoch 22 : 9346 / 10000\n",
      "Epoch 23 : 9338 / 10000\n",
      "Epoch 24 : 9334 / 10000\n",
      "Epoch 25 : 9336 / 10000\n",
      "Epoch 26 : 9356 / 10000\n",
      "Epoch 27 : 9351 / 10000\n",
      "Epoch 28 : 9357 / 10000\n",
      "Epoch 29 : 9357 / 10000\n"
     ]
    }
   ],
   "source": [
    "W1, B1, W2, B2 = SGD(training_data, 30, 10, 3, test_data)"
   ]
  },
  {
   "cell_type": "code",
   "execution_count": 136,
   "metadata": {},
   "outputs": [],
   "source": [
    "def predict(images, W1, W2, B1, B2):\n",
    "    predictions = []\n",
    "    for im in images:\n",
    "        a = f(im[0], W1, W2, B1, B2)\n",
    "        predictions.append(np.argmax(a))\n",
    "    return predictions"
   ]
  },
  {
   "cell_type": "code",
   "execution_count": 137,
   "metadata": {
    "scrolled": true
   },
   "outputs": [
    {
     "data": {
      "text/plain": [
       "[8, 6, 3, 0, 2, 3, 8, 8, 3, 6]"
      ]
     },
     "execution_count": 137,
     "metadata": {},
     "output_type": "execute_result"
    }
   ],
   "source": [
    "predict(training_data[0:10], W1, W2, B1, B2)"
   ]
  },
  {
   "cell_type": "code",
   "execution_count": 138,
   "metadata": {},
   "outputs": [
    {
     "data": {
      "image/png": "[encoded data removed]",
      "text/plain": [
       "<Figure size 432x288 with 10 Axes>"
      ]
     },
     "metadata": {},
     "output_type": "display_data"
    }
   ],
   "source": [
    "plot_images(training_data[0:10])"
   ]
  },
  {
   "cell_type": "code",
   "execution_count": null,
   "metadata": {},
   "outputs": [],
   "source": []
  }
 ],
 "metadata": {
  "kernelspec": {
   "display_name": "Python 3",
   "language": "python",
   "name": "python3"
  },
  "language_info": {
   "codemirror_mode": {
    "name": "ipython",
    "version": 3
   },
   "file_extension": ".py",
   "mimetype": "text/x-python",
   "name": "python",
   "nbconvert_exporter": "python",
   "pygments_lexer": "ipython3",
   "version": "3.7.5"
  }
 },
 "nbformat": 4,
 "nbformat_minor": 2
}
